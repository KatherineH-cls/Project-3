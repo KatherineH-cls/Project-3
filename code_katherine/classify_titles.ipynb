{
 "cells": [
  {
   "cell_type": "markdown",
   "metadata": {},
   "source": [
    "# Project 3\n",
    "\n",
    "## Model to classify movie title text"
   ]
  },
  {
   "cell_type": "code",
   "execution_count": 41,
   "metadata": {},
   "outputs": [],
   "source": [
    "# import dependencies\n",
    "import pandas as pd\n"
   ]
  },
  {
   "cell_type": "code",
   "execution_count": 42,
   "metadata": {},
   "outputs": [],
   "source": [
    "# import data\n",
    "df = pd.read_csv('../Resources/title_table.csv')"
   ]
  },
  {
   "cell_type": "code",
   "execution_count": 59,
   "metadata": {},
   "outputs": [],
   "source": [
    "X = df.title\n",
    "y = df.bond"
   ]
  },
  {
   "cell_type": "code",
   "execution_count": 60,
   "metadata": {},
   "outputs": [],
   "source": [
    "# Split data into training and testing\n",
    "from sklearn.model_selection import train_test_split\n",
    "\n",
    "\n",
    "X_train, X_test, y_train, y_test = train_test_split(X, y, random_state=42)"
   ]
  },
  {
   "cell_type": "code",
   "execution_count": 47,
   "metadata": {},
   "outputs": [],
   "source": [
    "\n",
    "\n",
    "from sklearn.feature_extraction.text import TfidfVectorizer\n",
    "# list of text documents\n",
    "text = X_train\n",
    "# create the transform\n",
    "vectorizer = TfidfVectorizer()\n",
    "# tokenize and build vocab\n",
    "vectorizer.fit(text)\n",
    "# summarize\n",
    "# print(vectorizer.vocabulary_)\n",
    "# print(vectorizer.idf_)\n",
    "# encode document\n",
    "vector = vectorizer.transform([text[0]])\n",
    "# # summarize encoded vector\n",
    "# print(vector.shape)\n",
    "# print(vector.toarray())"
   ]
  },
  {
   "cell_type": "code",
   "execution_count": 81,
   "metadata": {},
   "outputs": [],
   "source": [
    "import nltk\n",
    "import string\n",
    "\n",
    "def tokenize(text):\n",
    "    stem = nltk.stem.SnowballStemmer('english')\n",
    "    text = text.lower()\n",
    "\n",
    "    for token in nltk.word_tokenize(text):\n",
    "        if token in string.punctuation: continue\n",
    "        yield stem.stem(token)"
   ]
  },
  {
   "cell_type": "code",
   "execution_count": 82,
   "metadata": {},
   "outputs": [
    {
     "name": "stderr",
     "output_type": "stream",
     "text": [
      "[nltk_data] Downloading package punkt to\n",
      "[nltk_data]     C:\\Users\\kathe\\AppData\\Roaming\\nltk_data...\n",
      "[nltk_data]   Package punkt is already up-to-date!\n"
     ]
    },
    {
     "data": {
      "text/plain": [
       "True"
      ]
     },
     "execution_count": 82,
     "metadata": {},
     "output_type": "execute_result"
    }
   ],
   "source": [
    "\n",
    "nltk.download('punkt')"
   ]
  },
  {
   "cell_type": "code",
   "execution_count": 83,
   "metadata": {},
   "outputs": [],
   "source": [
    "# tokenise titles\n",
    "text = df.title\n",
    "text_token = []\n",
    "for entry in text:\n",
    "    text_token.append(tokenize(entry))"
   ]
  },
  {
   "cell_type": "code",
   "execution_count": 84,
   "metadata": {},
   "outputs": [],
   "source": [
    "# vectorize tokens using One Hot Encoding with NLTK\n",
    "def vectorize(doc):\n",
    "    return {\n",
    "        token: True\n",
    "        for token in doc\n",
    "    }\n",
    "\n",
    "vectors = map(vectorize, text_token)"
   ]
  },
  {
   "cell_type": "code",
   "execution_count": 85,
   "metadata": {},
   "outputs": [
    {
     "data": {
      "text/plain": [
       "<map at 0x241371c38d0>"
      ]
     },
     "execution_count": 85,
     "metadata": {},
     "output_type": "execute_result"
    }
   ],
   "source": [
    "vectors"
   ]
  },
  {
   "cell_type": "code",
   "execution_count": 86,
   "metadata": {},
   "outputs": [
    {
     "data": {
      "text/plain": [
       "[{'black': True, 'panther': True},\n",
       " {'mad': True, 'max': True, 'furi': True, 'road': True},\n",
       " {'spider-man': True, 'into': True, 'the': True, 'spider-vers': True},\n",
       " {'wonder': True, 'woman': True},\n",
       " {'coco': True},\n",
       " {'dunkirk': True},\n",
       " {'star': True, 'war': True, 'the': True, 'last': True, 'jedi': True},\n",
       " {'thor': True, 'ragnarok': True},\n",
       " {'logan': True},\n",
       " {'star': True,\n",
       "  'war': True,\n",
       "  'episod': True,\n",
       "  'vii': True,\n",
       "  'the': True,\n",
       "  'forc': True,\n",
       "  'awaken': True},\n",
       " {'incred': True, '2': True},\n",
       " {'zootopia': True},\n",
       " {'war': True,\n",
       "  'for': True,\n",
       "  'the': True,\n",
       "  'planet': True,\n",
       "  'of': True,\n",
       "  'ape': True},\n",
       " {'babi': True, 'driver': True},\n",
       " {'spider-man': True, 'homecom': True},\n",
       " {'captain': True, 'america': True, 'civil': True, 'war': True},\n",
       " {'blade': True, 'runner': True, '2049': True},\n",
       " {'the': True, 'jungl': True, 'book': True},\n",
       " {'mission': True, 'imposs': True, 'rogu': True, 'nation': True},\n",
       " {'the': True, 'hurt': True, 'locker': True},\n",
       " {'aveng': True, 'infin': True, 'war': True},\n",
       " {'the': True, 'lego': True, 'movi': True},\n",
       " {'ant-man': True, 'and': True, 'the': True, 'wasp': True},\n",
       " {'moana': True},\n",
       " {'isl': True, 'of': True, 'dog': True},\n",
       " {'guardian': True, 'of': True, 'the': True, 'galaxi': True},\n",
       " {'kubo': True, 'and': True, 'the': True, 'two': True, 'string': True},\n",
       " {'marvel': True, \"'s\": True, 'the': True, 'aveng': True},\n",
       " {'hunt': True, 'for': True, 'the': True, 'wilderpeopl': True},\n",
       " {'doctor': True, 'strang': True},\n",
       " {'true': True, 'grit': True},\n",
       " {'x-men': True, 'day': True, 'of': True, 'futur': True, 'past': True},\n",
       " {'the': True, 'lego': True, 'batman': True, 'movi': True},\n",
       " {'dawn': True, 'of': True, 'the': True, 'planet': True, 'ape': True},\n",
       " {'captain': True,\n",
       "  'america': True,\n",
       "  'the': True,\n",
       "  'winter': True,\n",
       "  'soldier': True},\n",
       " {'rogu': True,\n",
       "  'one': True,\n",
       "  'a': True,\n",
       "  'star': True,\n",
       "  'war': True,\n",
       "  'stori': True},\n",
       " {'deadpool': True, '2': True},\n",
       " {'annihil': True},\n",
       " {'the': True, 'hunger': True, 'game': True, 'catch': True, 'fire': True},\n",
       " {'how': True,\n",
       "  'to': True,\n",
       "  'train': True,\n",
       "  'your': True,\n",
       "  'dragon': True,\n",
       "  'the': True,\n",
       "  'hidden': True,\n",
       "  'world': True},\n",
       " {'fantast': True, 'mr.': True, 'fox': True},\n",
       " {'71': True},\n",
       " {'john': True, 'wick': True, 'chapter': True, '2': True},\n",
       " {'bumblebe': True},\n",
       " {'frozen': True},\n",
       " {'sweet': True, 'countri': True},\n",
       " {'deadpool': True},\n",
       " {'sulli': True},\n",
       " {'a': True, 'most': True, 'violent': True, 'year': True},\n",
       " {'star': True, 'trek': True, 'beyond': True},\n",
       " {'how': True,\n",
       "  'to': True,\n",
       "  'train': True,\n",
       "  'your': True,\n",
       "  'dragon': True,\n",
       "  '2': True},\n",
       " {'rush': True},\n",
       " {'ponyo': True},\n",
       " {'creed': True, 'ii': True},\n",
       " {'teen': True,\n",
       "  'titan': True,\n",
       "  'go': True,\n",
       "  'to': True,\n",
       "  'the': True,\n",
       "  'movi': True},\n",
       " {'upgrad': True},\n",
       " {'paranorman': True},\n",
       " {'x-men': True, 'first': True, 'class': True},\n",
       " {'attack': True, 'the': True, 'block': True},\n",
       " {'rango': True},\n",
       " {'hacksaw': True, 'ridg': True},\n",
       " {'bone': True, 'tomahawk': True},\n",
       " {'the': True, 'reven': True},\n",
       " {'the': True, 'walk': True},\n",
       " {'21': True, 'jump': True, 'street': True},\n",
       " {'onli': True, 'the': True, 'brave': True},\n",
       " {'deepwat': True, 'horizon': True},\n",
       " {'22': True, 'jump': True, 'street': True},\n",
       " {'turbo': True, 'kid': True},\n",
       " {'iron': True, 'man': True, '3': True},\n",
       " {'the': True, 'pirat': True, 'band': True, 'of': True, 'misfit': True},\n",
       " {'readi': True, 'player': True, 'one': True},\n",
       " {'solo': True, 'a': True, 'star': True, 'war': True, 'stori': True},\n",
       " {'aveng': True, 'age': True, 'of': True, 'ultron': True},\n",
       " {'mission': True, 'imposs': True, 'fallout': True},\n",
       " {'get': True, 'out': True},\n",
       " {'a': True, 'quiet': True, 'place': True},\n",
       " {'arriv': True},\n",
       " {'hell': True, 'or': True, 'high': True, 'water': True},\n",
       " {'skyfal': True},\n",
       " {'harri': True,\n",
       "  'potter': True,\n",
       "  'and': True,\n",
       "  'the': True,\n",
       "  'death': True,\n",
       "  'hallow': True,\n",
       "  'part': True,\n",
       "  '2': True},\n",
       " {'nightcrawl': True},\n",
       " {'the': True, 'post': True},\n",
       " {'eye': True, 'in': True, 'the': True, 'sky': True},\n",
       " {'all': True, 'is': True, 'lost': True},\n",
       " {'looper': True},\n",
       " {'the': True, 'cabin': True, 'in': True, 'wood': True},\n",
       " {'ex': True, 'machina': True},\n",
       " {'sicario': True},\n",
       " {'search': True},\n",
       " {'it': True},\n",
       " {'10': True, 'cloverfield': True, 'lane': True},\n",
       " {'bridg': True, 'of': True, 'spi': True},\n",
       " {'gone': True, 'girl': True},\n",
       " {'drive': True},\n",
       " {'the': True, 'dark': True, 'knight': True, 'rise': True},\n",
       " {'you': True, 'were': True, 'never': True, 'realli': True, 'here': True},\n",
       " {'mission': True, 'imposs': True, 'ghost': True, 'protocol': True},\n",
       " {'the': True, 'imit': True, 'game': True},\n",
       " {'sourc': True, 'code': True},\n",
       " {'mandi': True},\n",
       " {'ell': True},\n",
       " {'hugo': True},\n",
       " {'the': True, 'town': True},\n",
       " {'mother': True},\n",
       " {'cell': True, '211': True},\n",
       " {'incept': True},\n",
       " {'the': True, 'gift': True},\n",
       " {'the': True, 'guard': True},\n",
       " {'99': True, 'home': True},\n",
       " {'wind': True, 'river': True},\n",
       " {'american': True, 'made': True},\n",
       " {'do': True, \"n't\": True, 'breath': True},\n",
       " {'the': True, 'survivalist': True},\n",
       " {'the': True, 'endless': True},\n",
       " {'american': True, 'anim': True},\n",
       " {'slow': True, 'west': True},\n",
       " {'coriolanus': True},\n",
       " {'martha': True, 'marci': True, 'may': True, 'marlen': True},\n",
       " {'the': True, 'guest': True},\n",
       " {'headhunt': True},\n",
       " {'ant-man': True},\n",
       " {'the': True, 'hunger': True, 'game': True},\n",
       " {'a': True, 'bigger': True, 'splash': True},\n",
       " {'game': True, 'night': True},\n",
       " {'black': True, 'swan': True},\n",
       " {'mr.': True, 'holm': True},\n",
       " {'detroit': True},\n",
       " {'atom': True, 'blond': True},\n",
       " {'brawl': True, 'in': True, 'cell': True, 'block': True, '99': True},\n",
       " {'contagion': True},\n",
       " {'harri': True,\n",
       "  'potter': True,\n",
       "  'and': True,\n",
       "  'the': True,\n",
       "  'half-blood': True,\n",
       "  'princ': True},\n",
       " {'arbitrag': True},\n",
       " {'unstopp': True},\n",
       " {'a': True, 'most': True, 'want': True, 'man': True},\n",
       " {'furious': True, '7': True},\n",
       " {'blood': True, 'father': True},\n",
       " {'chronicl': True},\n",
       " {'kong': True, 'skull': True, 'island': True},\n",
       " {'buri': True},\n",
       " {'the': True, 'girl': True, 'with': True, 'dragon': True, 'tattoo': True},\n",
       " {'better': True, 'watch': True, 'out': True},\n",
       " {'prison': True},\n",
       " {'overlord': True},\n",
       " {'los': True, 'ojo': True, 'de': True, 'julia': True},\n",
       " {'the': True, 'ghost': True, 'writer': True},\n",
       " {'tinker': True, 'tailor': True, 'soldier': True, 'spi': True},\n",
       " {'split': True},\n",
       " {'all': True, 'the': True, 'money': True, 'in': True, 'world': True},\n",
       " {'side': True, 'effect': True},\n",
       " {'godzilla': True},\n",
       " {'get': True, 'low': True},\n",
       " {'captain': True, 'america': True, 'the': True, 'first': True, 'aveng': True},\n",
       " {'the': True, 'lincoln': True, 'lawyer': True},\n",
       " {'farewel': True},\n",
       " {'haywir': True},\n",
       " {'melancholia': True},\n",
       " {'the': True, 'skin': True, 'i': True, 'live': True, 'in': True},\n",
       " {'the': True, 'shallow': True},\n",
       " {'ouija': True, 'origin': True, 'of': True, 'evil': True},\n",
       " {'killer': True, 'joe': True},\n",
       " {'the': True, 'snowtown': True, 'murder': True},\n",
       " {'harri': True,\n",
       "  'potter': True,\n",
       "  'and': True,\n",
       "  'the': True,\n",
       "  'death': True,\n",
       "  'hallow': True,\n",
       "  'part': True,\n",
       "  '1': True},\n",
       " {'nocturn': True, 'anim': True},\n",
       " {'chappaquiddick': True},\n",
       " {'alpha': True},\n",
       " {'kingsman': True, 'the': True, 'secret': True, 'servic': True},\n",
       " {'you': True, 're': True, 'next': True},\n",
       " {'black': True, 'sea': True},\n",
       " {'bad': True,\n",
       "  'time': True,\n",
       "  'at': True,\n",
       "  'the': True,\n",
       "  'el': True,\n",
       "  'royal': True},\n",
       " {'a': True, 'cat': True, 'in': True, 'pari': True},\n",
       " {'fair': True, 'game': True},\n",
       " {'mother': True},\n",
       " {'no': True, 'time': True, 'to': True, 'die': True},\n",
       " {'spectr': True},\n",
       " {'skyfal': True},\n",
       " {'quantum': True, 'of': True, 'solac': True},\n",
       " {'die': True, 'anoth': True, 'day': True},\n",
       " {'the': True, 'world': True, 'is': True, 'not': True, 'enough': True},\n",
       " {'tomorrow': True, 'never': True, 'die': True},\n",
       " {'goldeney': True},\n",
       " {'licenc': True, 'to': True, 'kill': True},\n",
       " {'the': True, 'live': True, 'daylight': True},\n",
       " {'a': True, 'view': True, 'to': True, 'kill': True},\n",
       " {'octopussi': True},\n",
       " {'never': True, 'say': True, 'again': True},\n",
       " {'for': True, 'your': True, 'eye': True, 'onli': True},\n",
       " {'moonrak': True},\n",
       " {'the': True, 'spi': True, 'who': True, 'love': True, 'me': True},\n",
       " {'the': True, 'man': True, 'with': True, 'golden': True, 'gun': True},\n",
       " {'live': True, 'and': True, 'let': True, 'die': True},\n",
       " {'diamond': True, 'are': True, 'forev': True},\n",
       " {'on': True,\n",
       "  'her': True,\n",
       "  'majesti': True,\n",
       "  \"'s\": True,\n",
       "  'secret': True,\n",
       "  'servic': True},\n",
       " {'casino': True, 'royal': True},\n",
       " {'you': True, 'onli': True, 'live': True, 'twice': True},\n",
       " {'thunderbal': True},\n",
       " {'goldfing': True},\n",
       " {'from': True, 'russia': True, 'with': True, 'love': True},\n",
       " {'dr.': True, 'no': True}]"
      ]
     },
     "execution_count": 86,
     "metadata": {},
     "output_type": "execute_result"
    }
   ],
   "source": [
    "list(vectors)"
   ]
  },
  {
   "cell_type": "markdown",
   "metadata": {},
   "source": []
  },
  {
   "cell_type": "code",
   "execution_count": 18,
   "metadata": {},
   "outputs": [],
   "source": [
    "X = vectors\n",
    "y = df.bond"
   ]
  },
  {
   "cell_type": "code",
   "execution_count": 19,
   "metadata": {},
   "outputs": [
    {
     "ename": "TypeError",
     "evalue": "Singleton array array(<map object at 0x0000024136DB3550>, dtype=object) cannot be considered a valid collection.",
     "output_type": "error",
     "traceback": [
      "\u001b[1;31m---------------------------------------------------------------------------\u001b[0m",
      "\u001b[1;31mTypeError\u001b[0m                                 Traceback (most recent call last)",
      "\u001b[1;32m<ipython-input-19-064d9634b11f>\u001b[0m in \u001b[0;36m<module>\u001b[1;34m\u001b[0m\n\u001b[0;32m      3\u001b[0m \u001b[1;33m\u001b[0m\u001b[0m\n\u001b[0;32m      4\u001b[0m \u001b[1;33m\u001b[0m\u001b[0m\n\u001b[1;32m----> 5\u001b[1;33m \u001b[0mX_train\u001b[0m\u001b[1;33m,\u001b[0m \u001b[0mX_test\u001b[0m\u001b[1;33m,\u001b[0m \u001b[0my_train\u001b[0m\u001b[1;33m,\u001b[0m \u001b[0my_test\u001b[0m \u001b[1;33m=\u001b[0m \u001b[0mtrain_test_split\u001b[0m\u001b[1;33m(\u001b[0m\u001b[0mX\u001b[0m\u001b[1;33m,\u001b[0m \u001b[0my\u001b[0m\u001b[1;33m,\u001b[0m \u001b[0mrandom_state\u001b[0m\u001b[1;33m=\u001b[0m\u001b[1;36m1\u001b[0m\u001b[1;33m)\u001b[0m\u001b[1;33m\u001b[0m\u001b[1;33m\u001b[0m\u001b[0m\n\u001b[0m",
      "\u001b[1;32m~\\anaconda3\\envs\\PythonAdv\\lib\\site-packages\\sklearn\\model_selection\\_split.py\u001b[0m in \u001b[0;36mtrain_test_split\u001b[1;34m(test_size, train_size, random_state, shuffle, stratify, *arrays)\u001b[0m\n\u001b[0;32m   2170\u001b[0m         \u001b[1;32mraise\u001b[0m \u001b[0mValueError\u001b[0m\u001b[1;33m(\u001b[0m\u001b[1;34m\"At least one array required as input\"\u001b[0m\u001b[1;33m)\u001b[0m\u001b[1;33m\u001b[0m\u001b[1;33m\u001b[0m\u001b[0m\n\u001b[0;32m   2171\u001b[0m \u001b[1;33m\u001b[0m\u001b[0m\n\u001b[1;32m-> 2172\u001b[1;33m     \u001b[0marrays\u001b[0m \u001b[1;33m=\u001b[0m \u001b[0mindexable\u001b[0m\u001b[1;33m(\u001b[0m\u001b[1;33m*\u001b[0m\u001b[0marrays\u001b[0m\u001b[1;33m)\u001b[0m\u001b[1;33m\u001b[0m\u001b[1;33m\u001b[0m\u001b[0m\n\u001b[0m\u001b[0;32m   2173\u001b[0m \u001b[1;33m\u001b[0m\u001b[0m\n\u001b[0;32m   2174\u001b[0m     \u001b[0mn_samples\u001b[0m \u001b[1;33m=\u001b[0m \u001b[0m_num_samples\u001b[0m\u001b[1;33m(\u001b[0m\u001b[0marrays\u001b[0m\u001b[1;33m[\u001b[0m\u001b[1;36m0\u001b[0m\u001b[1;33m]\u001b[0m\u001b[1;33m)\u001b[0m\u001b[1;33m\u001b[0m\u001b[1;33m\u001b[0m\u001b[0m\n",
      "\u001b[1;32m~\\anaconda3\\envs\\PythonAdv\\lib\\site-packages\\sklearn\\utils\\validation.py\u001b[0m in \u001b[0;36mindexable\u001b[1;34m(*iterables)\u001b[0m\n\u001b[0;32m    354\u001b[0m     \"\"\"\n\u001b[0;32m    355\u001b[0m     \u001b[0mresult\u001b[0m \u001b[1;33m=\u001b[0m \u001b[1;33m[\u001b[0m\u001b[0m_make_indexable\u001b[0m\u001b[1;33m(\u001b[0m\u001b[0mX\u001b[0m\u001b[1;33m)\u001b[0m \u001b[1;32mfor\u001b[0m \u001b[0mX\u001b[0m \u001b[1;32min\u001b[0m \u001b[0miterables\u001b[0m\u001b[1;33m]\u001b[0m\u001b[1;33m\u001b[0m\u001b[1;33m\u001b[0m\u001b[0m\n\u001b[1;32m--> 356\u001b[1;33m     \u001b[0mcheck_consistent_length\u001b[0m\u001b[1;33m(\u001b[0m\u001b[1;33m*\u001b[0m\u001b[0mresult\u001b[0m\u001b[1;33m)\u001b[0m\u001b[1;33m\u001b[0m\u001b[1;33m\u001b[0m\u001b[0m\n\u001b[0m\u001b[0;32m    357\u001b[0m     \u001b[1;32mreturn\u001b[0m \u001b[0mresult\u001b[0m\u001b[1;33m\u001b[0m\u001b[1;33m\u001b[0m\u001b[0m\n\u001b[0;32m    358\u001b[0m \u001b[1;33m\u001b[0m\u001b[0m\n",
      "\u001b[1;32m~\\anaconda3\\envs\\PythonAdv\\lib\\site-packages\\sklearn\\utils\\validation.py\u001b[0m in \u001b[0;36mcheck_consistent_length\u001b[1;34m(*arrays)\u001b[0m\n\u001b[0;32m    314\u001b[0m     \"\"\"\n\u001b[0;32m    315\u001b[0m \u001b[1;33m\u001b[0m\u001b[0m\n\u001b[1;32m--> 316\u001b[1;33m     \u001b[0mlengths\u001b[0m \u001b[1;33m=\u001b[0m \u001b[1;33m[\u001b[0m\u001b[0m_num_samples\u001b[0m\u001b[1;33m(\u001b[0m\u001b[0mX\u001b[0m\u001b[1;33m)\u001b[0m \u001b[1;32mfor\u001b[0m \u001b[0mX\u001b[0m \u001b[1;32min\u001b[0m \u001b[0marrays\u001b[0m \u001b[1;32mif\u001b[0m \u001b[0mX\u001b[0m \u001b[1;32mis\u001b[0m \u001b[1;32mnot\u001b[0m \u001b[1;32mNone\u001b[0m\u001b[1;33m]\u001b[0m\u001b[1;33m\u001b[0m\u001b[1;33m\u001b[0m\u001b[0m\n\u001b[0m\u001b[0;32m    317\u001b[0m     \u001b[0muniques\u001b[0m \u001b[1;33m=\u001b[0m \u001b[0mnp\u001b[0m\u001b[1;33m.\u001b[0m\u001b[0munique\u001b[0m\u001b[1;33m(\u001b[0m\u001b[0mlengths\u001b[0m\u001b[1;33m)\u001b[0m\u001b[1;33m\u001b[0m\u001b[1;33m\u001b[0m\u001b[0m\n\u001b[0;32m    318\u001b[0m     \u001b[1;32mif\u001b[0m \u001b[0mlen\u001b[0m\u001b[1;33m(\u001b[0m\u001b[0muniques\u001b[0m\u001b[1;33m)\u001b[0m \u001b[1;33m>\u001b[0m \u001b[1;36m1\u001b[0m\u001b[1;33m:\u001b[0m\u001b[1;33m\u001b[0m\u001b[1;33m\u001b[0m\u001b[0m\n",
      "\u001b[1;32m~\\anaconda3\\envs\\PythonAdv\\lib\\site-packages\\sklearn\\utils\\validation.py\u001b[0m in \u001b[0;36m<listcomp>\u001b[1;34m(.0)\u001b[0m\n\u001b[0;32m    314\u001b[0m     \"\"\"\n\u001b[0;32m    315\u001b[0m \u001b[1;33m\u001b[0m\u001b[0m\n\u001b[1;32m--> 316\u001b[1;33m     \u001b[0mlengths\u001b[0m \u001b[1;33m=\u001b[0m \u001b[1;33m[\u001b[0m\u001b[0m_num_samples\u001b[0m\u001b[1;33m(\u001b[0m\u001b[0mX\u001b[0m\u001b[1;33m)\u001b[0m \u001b[1;32mfor\u001b[0m \u001b[0mX\u001b[0m \u001b[1;32min\u001b[0m \u001b[0marrays\u001b[0m \u001b[1;32mif\u001b[0m \u001b[0mX\u001b[0m \u001b[1;32mis\u001b[0m \u001b[1;32mnot\u001b[0m \u001b[1;32mNone\u001b[0m\u001b[1;33m]\u001b[0m\u001b[1;33m\u001b[0m\u001b[1;33m\u001b[0m\u001b[0m\n\u001b[0m\u001b[0;32m    317\u001b[0m     \u001b[0muniques\u001b[0m \u001b[1;33m=\u001b[0m \u001b[0mnp\u001b[0m\u001b[1;33m.\u001b[0m\u001b[0munique\u001b[0m\u001b[1;33m(\u001b[0m\u001b[0mlengths\u001b[0m\u001b[1;33m)\u001b[0m\u001b[1;33m\u001b[0m\u001b[1;33m\u001b[0m\u001b[0m\n\u001b[0;32m    318\u001b[0m     \u001b[1;32mif\u001b[0m \u001b[0mlen\u001b[0m\u001b[1;33m(\u001b[0m\u001b[0muniques\u001b[0m\u001b[1;33m)\u001b[0m \u001b[1;33m>\u001b[0m \u001b[1;36m1\u001b[0m\u001b[1;33m:\u001b[0m\u001b[1;33m\u001b[0m\u001b[1;33m\u001b[0m\u001b[0m\n",
      "\u001b[1;32m~\\anaconda3\\envs\\PythonAdv\\lib\\site-packages\\sklearn\\utils\\validation.py\u001b[0m in \u001b[0;36m_num_samples\u001b[1;34m(x)\u001b[0m\n\u001b[0;32m    258\u001b[0m         \u001b[1;32mif\u001b[0m \u001b[0mlen\u001b[0m\u001b[1;33m(\u001b[0m\u001b[0mx\u001b[0m\u001b[1;33m.\u001b[0m\u001b[0mshape\u001b[0m\u001b[1;33m)\u001b[0m \u001b[1;33m==\u001b[0m \u001b[1;36m0\u001b[0m\u001b[1;33m:\u001b[0m\u001b[1;33m\u001b[0m\u001b[1;33m\u001b[0m\u001b[0m\n\u001b[0;32m    259\u001b[0m             raise TypeError(\"Singleton array %r cannot be considered\"\n\u001b[1;32m--> 260\u001b[1;33m                             \" a valid collection.\" % x)\n\u001b[0m\u001b[0;32m    261\u001b[0m         \u001b[1;31m# Check that shape is returning an integer or default to len\u001b[0m\u001b[1;33m\u001b[0m\u001b[1;33m\u001b[0m\u001b[1;33m\u001b[0m\u001b[0m\n\u001b[0;32m    262\u001b[0m         \u001b[1;31m# Dask dataframes may not return numeric shape[0] value\u001b[0m\u001b[1;33m\u001b[0m\u001b[1;33m\u001b[0m\u001b[1;33m\u001b[0m\u001b[0m\n",
      "\u001b[1;31mTypeError\u001b[0m: Singleton array array(<map object at 0x0000024136DB3550>, dtype=object) cannot be considered a valid collection."
     ]
    }
   ],
   "source": [
    "# Split data into training and testing\n",
    "from sklearn.model_selection import train_test_split\n",
    "\n",
    "\n",
    "X_train, X_test, y_train, y_test = train_test_split(X, y, random_state=1)"
   ]
  },
  {
   "cell_type": "code",
   "execution_count": null,
   "metadata": {},
   "outputs": [],
   "source": []
  }
 ],
 "metadata": {
  "interpreter": {
   "hash": "2cb9b7d5b68f4bfebe37bd14371b74a26c7634c91bad2bd7203be20ef753368a"
  },
  "kernelspec": {
   "display_name": "Python 3.6.13 64-bit ('PythonData': conda)",
   "language": "python",
   "name": "python3"
  },
  "language_info": {
   "codemirror_mode": {
    "name": "ipython",
    "version": 3
   },
   "file_extension": ".py",
   "mimetype": "text/x-python",
   "name": "python",
   "nbconvert_exporter": "python",
   "pygments_lexer": "ipython3",
   "version": "3.6.13"
  },
  "orig_nbformat": 4
 },
 "nbformat": 4,
 "nbformat_minor": 2
}
